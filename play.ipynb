{
 "cells": [
  {
   "cell_type": "code",
   "execution_count": 1,
   "metadata": {},
   "outputs": [],
   "source": [
    "import torch"
   ]
  },
  {
   "cell_type": "code",
   "execution_count": 2,
   "metadata": {},
   "outputs": [],
   "source": [
    "from hexconvolution import NoMCTSModel\n",
    "from hexboard import Board\n",
    "from hexgame import MultiHexGame"
   ]
  },
  {
   "cell_type": "code",
   "execution_count": 3,
   "metadata": {},
   "outputs": [],
   "source": [
    "device = torch.device(\"cuda\" if torch.cuda.is_available() else \"cpu\")\n",
    "models = (NoMCTSModel(board_size=3, layers=1),)\n",
    "boards = [Board(size=3) for idx in range(3)]"
   ]
  },
  {
   "cell_type": "code",
   "execution_count": 4,
   "metadata": {},
   "outputs": [],
   "source": [
    "multihexgame = MultiHexGame(boards, models, device, noise=None, noise_parameters=None, temperature=0.1)"
   ]
  },
  {
   "cell_type": "code",
   "execution_count": 5,
   "metadata": {
    "scrolled": true
   },
   "outputs": [],
   "source": [
    "board_states, moves, targets = multihexgame.play_moves()"
   ]
  },
  {
   "cell_type": "code",
   "execution_count": 6,
   "metadata": {},
   "outputs": [
    {
     "data": {
      "text/plain": [
       "Board\n",
       "[[ 1.  1. -1.]\n",
       " [ 1.  1. -1.]\n",
       " [ 1. -1. -1.]]\n",
       "Made moves\n",
       "{(1, 2), (0, 1), (0, 0), (0, 2), (2, 1), (2, 0), (2, 2), (1, 0), (1, 1)}\n",
       "Legal moves\n",
       "set()\n",
       "Winner\n",
       "[0]\n",
       "Connected sets\n",
       "[[({(0, 1), (2, 0), (0, 0), (1, 0), (1, 1)}, {0, 1, 2})], [({(1, 2), (0, 2), (2, 1), (2, 2)}, {1, 2})]]\n",
       "Board\n",
       "[[ 0.  1. -1.]\n",
       " [ 1.  1. -1.]\n",
       " [ 1.  0. -1.]]\n",
       "Made moves\n",
       "{(1, 2), (0, 1), (2, 0), (1, 1), (2, 2), (1, 0), (0, 2)}\n",
       "Legal moves\n",
       "set()\n",
       "Winner\n",
       "[0]\n",
       "Connected sets\n",
       "[[({(0, 1), (2, 0), (1, 0), (1, 1)}, {0, 1, 2})], [({(1, 2), (0, 2), (2, 2)}, {2})]]\n",
       "Board\n",
       "[[-1.  1.  0.]\n",
       " [-1. -1. -1.]\n",
       " [ 1.  1.  1.]]\n",
       "Made moves\n",
       "{(0, 1), (1, 2), (0, 0), (2, 1), (2, 0), (2, 2), (1, 0), (1, 1)}\n",
       "Legal moves\n",
       "set()\n",
       "Winner\n",
       "[1]\n",
       "Connected sets\n",
       "[[({(0, 1)}, {0}), ({(2, 0), (2, 1), (2, 2)}, {2})], [({(1, 2), (1, 0), (0, 0), (1, 1)}, {0, 1, 2})]]"
      ]
     },
     "execution_count": 6,
     "metadata": {},
     "output_type": "execute_result"
    }
   ],
   "source": [
    "multihexgame"
   ]
  },
  {
   "cell_type": "code",
   "execution_count": 7,
   "metadata": {},
   "outputs": [
    {
     "data": {
      "text/plain": [
       "tensor([1., 1., 0., 0., 0., 1., 1., 1., 0., 0., 0., 1., 1., 1., 0., 0., 0., 1.,\n",
       "        1., 1., 0., 0., 1., 1.])"
      ]
     },
     "execution_count": 7,
     "metadata": {},
     "output_type": "execute_result"
    }
   ],
   "source": [
    "targets"
   ]
  }
 ],
 "metadata": {
  "kernelspec": {
   "display_name": "Python [conda env:hex]",
   "language": "python",
   "name": "conda-env-hex-py"
  },
  "language_info": {
   "codemirror_mode": {
    "name": "ipython",
    "version": 3
   },
   "file_extension": ".py",
   "mimetype": "text/x-python",
   "name": "python",
   "nbconvert_exporter": "python",
   "pygments_lexer": "ipython3",
   "version": "3.7.2"
  }
 },
 "nbformat": 4,
 "nbformat_minor": 2
}
